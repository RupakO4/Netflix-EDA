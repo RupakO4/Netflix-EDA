{
 "cells": [
  {
   "cell_type": "code",
   "execution_count": 1,
   "id": "ec738bc2",
   "metadata": {},
   "outputs": [],
   "source": [
    "import pandas as pd\n",
    "import numpy as np\n",
    "\n",
    "import matplotlib.pyplot as plt\n",
    "import seaborn as sns"
   ]
  },
  {
   "cell_type": "code",
   "execution_count": 2,
   "id": "2ae02e65",
   "metadata": {},
   "outputs": [],
   "source": [
    "import os\n",
    "import json"
   ]
  },
  {
   "cell_type": "code",
   "execution_count": 3,
   "id": "100d87ba",
   "metadata": {},
   "outputs": [],
   "source": [
    "#using pyspark as our dataframe for big data\n",
    "from pyspark.sql import SparkSession\n",
    "from pyspark.sql.functions import sum, col\n",
    "import pyspark.sql.functions as F"
   ]
  },
  {
   "cell_type": "markdown",
   "id": "2f7aff48",
   "metadata": {},
   "source": [
    "## Get IMDB data from Google Cloud public-datasets\n",
    "This dataset contains data about all the movies in IMDB. We use Google Big Query to pull the data in form of csv "
   ]
  },
  {
   "cell_type": "code",
   "execution_count": 4,
   "id": "116fd0e4",
   "metadata": {},
   "outputs": [],
   "source": [
    "# from google.cloud import bigquery\n",
    "# from google.oauth2 import service_account\n",
    "# import json\n",
    "\n",
    "# from kaggle_secrets import UserSecretsClient\n",
    "# user_secrets = UserSecretsClient()\n",
    "# secret_value = user_secrets.get_secret(\"key\")\n",
    "\n",
    "# credentials = service_account.Credentials.from_service_account_info(\n",
    "#     json.loads(secret_value)\n",
    "# )\n",
    "# client = bigquery.Client(credentials=credentials)"
   ]
  },
  {
   "cell_type": "code",
   "execution_count": 5,
   "id": "ff5eebd5",
   "metadata": {},
   "outputs": [],
   "source": [
    "# # from google.cloud import bigquery\n",
    "\n",
    "# query = '''\n",
    "#         SELECT title_type,primary_title,genres,runtime_minutes,\n",
    "#         num_votes,average_rating \n",
    "#         FROM `bigquery-public-data.imdb.title_ratings` AS rating \n",
    "#         JOIN `bigquery-public-data.imdb.title_basics` AS title\n",
    "#         ON rating.tconst=title.tconst \n",
    "#         LIMIT 1000\n",
    "#         '''\n",
    "# # # Run the query and save the results to a DataFrame\n",
    "# datafirst = client.query(query)\n",
    "\n",
    "# ds = [(row.title_type,row.primary_title,row.genres,row.runtime_minutes,row.num_votes,row.average_rating)\n",
    "#       for row in datafirst]\n",
    "# # print(ds)\n",
    "# df = pd.DataFrame(ds,columns=['title_type','primary_title','genres','runtime_minutes',\n",
    "#                               'num_votes','average_rating'])\n",
    "# df.head()\n",
    "# df.to_csv('imdb_data.csv', index = False, encoding='utf-8')"
   ]
  },
  {
   "cell_type": "code",
   "execution_count": 6,
   "id": "530b97e4",
   "metadata": {},
   "outputs": [
    {
     "name": "stdout",
     "output_type": "stream",
     "text": [
      "23/03/23 08:27:48 WARN Utils: Your hostname, Rupaks-MacBook-Air.local resolves to a loopback address: 127.0.0.1; using 192.168.1.64 instead (on interface en0)\n",
      "23/03/23 08:27:48 WARN Utils: Set SPARK_LOCAL_IP if you need to bind to another address\n"
     ]
    },
    {
     "name": "stderr",
     "output_type": "stream",
     "text": [
      "Setting default log level to \"WARN\".\n",
      "To adjust logging level use sc.setLogLevel(newLevel). For SparkR, use setLogLevel(newLevel).\n"
     ]
    },
    {
     "name": "stdout",
     "output_type": "stream",
     "text": [
      "23/03/23 08:27:49 WARN NativeCodeLoader: Unable to load native-hadoop library for your platform... using builtin-java classes where applicable\n"
     ]
    }
   ],
   "source": [
    "# Creating a SparkSession object\n",
    "spark = SparkSession.builder.appName('imdb_viz').getOrCreate()\n",
    "\n",
    "# Importing a CSV file as a DataFrame\n",
    "df = spark.read.csv('/Users/rupakpantha/Documents/DS_project/imdb_data1.csv', header=True, inferSchema=True)\n"
   ]
  },
  {
   "cell_type": "code",
   "execution_count": 7,
   "id": "30781b2c",
   "metadata": {},
   "outputs": [
    {
     "name": "stdout",
     "output_type": "stream",
     "text": [
      "+----------+--------------------+-------------------+---------------+---------+--------------+----------+\n",
      "|title_type|       primary_title|             genres|runtime_minutes|num_votes|average_rating|start_year|\n",
      "+----------+--------------------+-------------------+---------------+---------+--------------+----------+\n",
      "|     movie|       Hidden Agenda|              Drama|           65.0|        8|           9.6|      null|\n",
      "| tvEpisode|There are Some Pe...|        Crime,Drama|           null|       18|           7.5|      null|\n",
      "|  tvSeries|The Wonderful Wor...|        Documentary|           60.0|       16|           7.1|      null|\n",
      "|     movie|You Don't Know Ni...|        Documentary|           null|       39|           8.5|      null|\n",
      "|     movie|The Great 14th: T...|        Documentary|           82.0|      152|           9.3|      null|\n",
      "|     movie|Luccas Neto em: A...|      Comedy,Family|           87.0|       76|           2.5|      null|\n",
      "|     movie|       Prem Prakaran|      Drama,Romance|          162.0|       67|           9.7|      null|\n",
      "| tvEpisode|Tom Holland/Alana...|   Comedy,Talk-Show|           41.0|       17|           7.1|      null|\n",
      "| tvEpisode|Antony Blinken/Twice|   Comedy,Talk-Show|           null|       19|           6.4|      null|\n",
      "|     movie|           Shkembimi|Action,Comedy,Crime|           87.0|       93|           7.3|      null|\n",
      "+----------+--------------------+-------------------+---------------+---------+--------------+----------+\n",
      "only showing top 10 rows\n",
      "\n"
     ]
    }
   ],
   "source": [
    "df.show(10)"
   ]
  },
  {
   "cell_type": "code",
   "execution_count": 8,
   "id": "02b5542b",
   "metadata": {
    "scrolled": false
   },
   "outputs": [
    {
     "name": "stderr",
     "output_type": "stream",
     "text": [
      "\r",
      "[Stage 3:>                                                          (0 + 1) / 1]\r"
     ]
    },
    {
     "name": "stdout",
     "output_type": "stream",
     "text": [
      "+-------+----------+----------------+-------+------------------+----------------+------------------+------------------+\n",
      "|summary|title_type|   primary_title| genres|   runtime_minutes|       num_votes|    average_rating|        start_year|\n",
      "+-------+----------+----------------+-------+------------------+----------------+------------------+------------------+\n",
      "|  count|      1000|            1000|    957|               676|            1000|              1000|               986|\n",
      "|   mean|      null|            null|   null|36.421597633136095|         352.905| 5.472900000000001| 1913.052738336714|\n",
      "| stddev|      null|            null|   null|45.499024729874286|4134.09463128209|1.2109425964809275|10.445082762488315|\n",
      "|    min|     movie|  $1, 000 Reward| Action|               1.0|               5|               1.0|            1883.0|\n",
      "|    max|  tvSeries|Études sur Paris|Western|             410.0|          112956|               9.7|            1929.0|\n",
      "+-------+----------+----------------+-------+------------------+----------------+------------------+------------------+\n",
      "\n"
     ]
    },
    {
     "name": "stderr",
     "output_type": "stream",
     "text": [
      "\r",
      "                                                                                \r"
     ]
    }
   ],
   "source": [
    "summary = df.describe()\n",
    "summary.show()"
   ]
  },
  {
   "cell_type": "code",
   "execution_count": 9,
   "id": "97c3b08e",
   "metadata": {},
   "outputs": [
    {
     "name": "stdout",
     "output_type": "stream",
     "text": [
      "root\n",
      " |-- title_type: string (nullable = true)\n",
      " |-- primary_title: string (nullable = true)\n",
      " |-- genres: string (nullable = true)\n",
      " |-- runtime_minutes: double (nullable = true)\n",
      " |-- num_votes: integer (nullable = true)\n",
      " |-- average_rating: double (nullable = true)\n",
      " |-- start_year: double (nullable = true)\n",
      "\n"
     ]
    }
   ],
   "source": [
    "df.printSchema()"
   ]
  },
  {
   "cell_type": "code",
   "execution_count": null,
   "id": "025db69a",
   "metadata": {},
   "outputs": [],
   "source": [
    "from pyspark.sql.types import DateType\n",
    "\n",
    "# Use the to_date() function to convert the date column from double to date format\n",
    "df = df.withColumn(\"start_year\", F.to_date(F.col(\"start_year\"), \"yyyy\").cast(DateType()))\n",
    "\n",
    "# Show the updated DataFrame\n",
    "df.show()"
   ]
  },
  {
   "cell_type": "markdown",
   "id": "cb9bd76f",
   "metadata": {},
   "source": [
    "# Vizualizations"
   ]
  },
  {
   "cell_type": "markdown",
   "id": "cece9a5c",
   "metadata": {},
   "source": [
    "## Relationship between Votes and Ratings\n",
    "We can explore the relationship between the number of votes and movie ratings. We can plot a scatter plot to see if there is a correlation between the two variables."
   ]
  },
  {
   "cell_type": "code",
   "execution_count": 10,
   "id": "f3904e8b",
   "metadata": {},
   "outputs": [
    {
     "data": {
      "image/png": "[encoded data removed]",
      "text/plain": [
       "<Figure size 640x480 with 1 Axes>"
      ]
     },
     "metadata": {},
     "output_type": "display_data"
    }
   ],
   "source": [
    "# Select necessary columns\n",
    "vote_rating_df = df.select(\"num_votes\", \"average_rating\")\n",
    "\n",
    "# Plot the scatter plot of votes and ratings\n",
    "vote_rating_df.toPandas().plot(kind='scatter', x='num_votes', y='average_rating', alpha=0.5)\n",
    "plt.xlabel(\"Number of Votes\")\n",
    "plt.ylabel(\"Rating\")\n",
    "plt.title(\"Relationship between Votes and Ratings\")\n",
    "plt.show()"
   ]
  },
  {
   "cell_type": "markdown",
   "id": "c4c103f7",
   "metadata": {},
   "source": [
    "## Runtime by Year\n",
    "We can explore how the runtime of movies has changed over the years. We can plot a line chart to see the trend in movie runtime."
   ]
  },
  {
   "cell_type": "code",
   "execution_count": null,
   "id": "fc89ed9d",
   "metadata": {},
   "outputs": [],
   "source": [
    "import pyspark.sql.functions as F\n",
    "\n",
    "# Select necessary columns\n",
    "runtime_year_df = df.select(\"start_year\", \"runtime_minutes\")\n",
    "\n",
    "# Group by year and calculate the average runtime\n",
    "avg_runtime_df = runtime_year_df.groupBy(\"start_year\").agg(F.avg(\"runtime_minutes\").alias(\"avg_runtime\"))\n",
    "\n",
    "# Plot the trend of average runtime over the years\n",
    "avg_runtime_df.toPandas().plot(kind='line', x='start_year', y='avg_runtime')\n",
    "plt.xlabel(\"Year\")\n",
    "plt.ylabel(\"Average Runtime (minutes)\")\n",
    "plt.title(\"Average Runtime of Movies over the Years\")\n",
    "plt.show()"
   ]
  },
  {
   "cell_type": "markdown",
   "id": "bc3dfaa8",
   "metadata": {},
   "source": [
    "## Bar Chart of Title Type"
   ]
  },
  {
   "cell_type": "code",
   "execution_count": null,
   "id": "36f10386",
   "metadata": {},
   "outputs": [],
   "source": [
    "from pyspark.sql.functions import count\n",
    "\n",
    "title_type_counts = df.groupBy('title_type').agg(count('*').alias('count')).orderBy('count')\n",
    "title_type_counts_pd = title_type_counts.toPandas()\n",
    "\n",
    "plt.bar(title_type_counts_pd['title_type'], title_type_counts_pd['count'])\n",
    "plt.title('Title Type Frequencies')\n",
    "plt.xlabel('Title Type')\n",
    "plt.ylabel('Frequency')\n",
    "plt.show()"
   ]
  },
  {
   "cell_type": "markdown",
   "id": "84c88bd7",
   "metadata": {},
   "source": [
    "## Scatter Plot"
   ]
  },
  {
   "cell_type": "code",
   "execution_count": null,
   "id": "88dbdf93",
   "metadata": {},
   "outputs": [],
   "source": [
    "# Create a scatter plot of runtime vs. average rating\n",
    "plt.scatter(df.select(\"runtime_minutes\").rdd.flatMap(lambda x: x).collect(),\n",
    "            df.select(\"average_rating\").rdd.flatMap(lambda x: x).collect())\n",
    "plt.xlabel(\"Runtime (minutes)\")\n",
    "plt.ylabel(\"Average Rating\")\n",
    "plt.show()"
   ]
  },
  {
   "cell_type": "markdown",
   "id": "2baa2479",
   "metadata": {},
   "source": [
    "## Heatmap of correlation matrix: \n",
    "Use a heatmap to visualize the correlation matrix between the numerical variables in the dataset"
   ]
  },
  {
   "cell_type": "code",
   "execution_count": null,
   "id": "cfa1b4aa",
   "metadata": {},
   "outputs": [],
   "source": [
    "# Select the numerical columns and convert to a Pandas DataFrame\n",
    "num_df = df.select(\"runtime_minutes\", \"num_votes\", \"average_rating\").toPandas()\n",
    "\n",
    "# Calculate the correlation matrix and plot a heatmap\n",
    "corr_matrix = num_df.corr()\n",
    "sns.heatmap(corr_matrix, annot=True, cmap=\"coolwarm\")\n",
    "plt.show()"
   ]
  },
  {
   "cell_type": "markdown",
   "id": "30d96247",
   "metadata": {},
   "source": [
    "## Stacked Bar Chart of Genres by Title Type"
   ]
  },
  {
   "cell_type": "code",
   "execution_count": null,
   "id": "dbfc27e0",
   "metadata": {},
   "outputs": [],
   "source": [
    "import pyspark.sql.functions as F\n",
    "from pyspark.sql.functions import explode, split, count, desc\n",
    "\n",
    "\n",
    "# Group by title type and genre, count the number of records, and order by title type and count\n",
    "genres_by_title_type = df.select('title_type', explode(split('genres', ',')).alias('genre')) \\\n",
    "                        .groupBy('title_type', 'genre') \\\n",
    "                        .agg(count('*').alias('count')) \\\n",
    "                        .orderBy('title_type', desc('count'))\n",
    "\n",
    "# Window function to rank genres by count within each title type\n",
    "from pyspark.sql.window import Window\n",
    "window = Window.partitionBy('title_type').orderBy(desc('count'))\n",
    "genres_by_title_type = genres_by_title_type.withColumn('rank', F.row_number().over(window))\n",
    "\n",
    "# Select only the top 5 genres for each title type\n",
    "genres_by_title_type = genres_by_title_type.filter(genres_by_title_type.rank <= 5)\n",
    "\n",
    "# Convert the resulting DataFrame to a Pandas DataFrame\n",
    "genres_by_title_type_pd = genres_by_title_type.toPandas()\n",
    "\n",
    "# Pivot the data and plot a stacked bar chart\n",
    "genres_by_title_type_pd.pivot(index='title_type', columns='genre', values='count').plot(kind='bar', stacked=True)\n",
    "\n",
    "plt.title('Top 5 Genres by Title Type')\n",
    "plt.xlabel('Title Type')\n",
    "plt.ylabel('Count')\n",
    "plt.show()\n"
   ]
  },
  {
   "cell_type": "code",
   "execution_count": null,
   "id": "b56383b0",
   "metadata": {},
   "outputs": [],
   "source": [
    "from pyspark.sql.functions import explode, split, count\n",
    "\n",
    "genres_by_title_type = df.select('title_type', explode(split('genres', ',')).alias('genre')) \\\n",
    "                        .groupBy('title_type', 'genre') \\\n",
    "                        .agg(count('*').alias('count')) \\\n",
    "                        .orderBy('title_type', 'count')\n",
    "\n",
    "genres_by_title_type_pd = genres_by_title_type.toPandas()\n",
    "\n",
    "genres_by_title_type_pd.pivot(index='title_type', columns='genre', values='count').plot(kind='bar', stacked=True)\n",
    "\n",
    "plt.title('Genres by Title Type')\n",
    "plt.xlabel('Title Type')\n",
    "plt.ylabel('Count')\n",
    "plt.show()\n"
   ]
  },
  {
   "cell_type": "code",
   "execution_count": null,
   "id": "c94f8398",
   "metadata": {},
   "outputs": [],
   "source": [
    "runtime_minutes = df.select(\"runtime_minutes\").toPandas()\n",
    "plt.hist(runtime_minutes, bins=20)\n",
    "plt.title(\"Distribution of Runtime Minutes\")\n",
    "plt.xlabel(\"Runtime Minutes\")\n",
    "plt.ylabel(\"Count\")\n",
    "plt.show()"
   ]
  },
  {
   "cell_type": "markdown",
   "id": "9c486277",
   "metadata": {},
   "source": [
    "## Distribution of rating"
   ]
  },
  {
   "cell_type": "code",
   "execution_count": null,
   "id": "2af41790",
   "metadata": {},
   "outputs": [],
   "source": [
    "import pyspark.sql.functions as F\n",
    "\n",
    "# Select necessary columns\n",
    "rating_df = df.select(\"average_rating\")\n",
    "\n",
    "# Plot the distribution of ratings\n",
    "rating_df.toPandas().plot(kind='hist', bins=10, alpha=0.5)\n",
    "plt.xlabel(\"Rating\")\n",
    "plt.title(\"Distribution of Movie Ratings\")\n",
    "plt.show()\n"
   ]
  },
  {
   "cell_type": "code",
   "execution_count": null,
   "id": "66c86db8",
   "metadata": {},
   "outputs": [],
   "source": []
  }
 ],
 "metadata": {
  "kernelspec": {
   "display_name": "Python [conda env:data_science] *",
   "language": "python",
   "name": "conda-env-data_science-py"
  },
  "language_info": {
   "codemirror_mode": {
    "name": "ipython",
    "version": 3
   },
   "file_extension": ".py",
   "mimetype": "text/x-python",
   "name": "python",
   "nbconvert_exporter": "python",
   "pygments_lexer": "ipython3",
   "version": "3.10.9"
  }
 },
 "nbformat": 4,
 "nbformat_minor": 5
}
